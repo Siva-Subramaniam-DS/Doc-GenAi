{
 "cells": [
  {
   "cell_type": "code",
   "execution_count": 1,
   "metadata": {
    "id": "iwEq2IeyoZBi"
   },
   "outputs": [],
   "source": [
    "import os\n",
    "import openai\n",
    "import langchain\n",
    "from langchain.embeddings import OpenAIEmbeddings\n",
    "from langchain.vectorstores import Chroma\n",
    "from langchain.text_splitter import CharacterTextSplitter\n",
    "from langchain.llms import AzureOpenAI\n",
    "from langchain.chains import RetrievalQA\n",
    "from langchain.document_loaders import PyPDFLoader"
   ]
  },
  {
   "cell_type": "code",
   "execution_count": null,
   "metadata": {
    "id": "AZfOHxOr4Nla"
   },
   "outputs": [],
   "source": [
    "os.environ[\"OPENAI_API_TYPE\"] = \"azure\"\n",
    "os.environ[\"OPENAI_API_VERSION\"] = \"2023-05-15\"\n",
    "os.environ[\"AZURE_OPENAI_ENDPOINT\"] = \"Your Endpoint\"\n",
    "os.environ[\"OPENAI_API_KEY\"] = \"Your API Key\""
   ]
  },
  {
   "cell_type": "code",
   "execution_count": 3,
   "metadata": {
    "id": "UGsfSflKEsF6"
   },
   "outputs": [],
   "source": [
    "from langchain.document_loaders import PyPDFLoader\n",
    "from langchain.text_splitter import CharacterTextSplitter\n",
    "from langchain.embeddings import OpenAIEmbeddings\n",
    "from langchain.vectorstores import Chroma\n",
    "from langchain.chains import VectorDBQA"
   ]
  },
  {
   "cell_type": "code",
   "execution_count": 4,
   "metadata": {
    "id": "KTCe9plPMUJq"
   },
   "outputs": [],
   "source": [
    "class AzureOpenAIEmbeddings:\n",
    "    def __init__(self, deployment_name, api_key, api_base, api_version):\n",
    "        self.deployment_name = deployment_name\n",
    "        self.api_key = api_key\n",
    "        self.api_base = api_base\n",
    "        self.api_version = api_version\n",
    "        openai.api_type = \"azure\"\n",
    "        openai.api_key = self.api_key\n",
    "        openai.api_base = self.api_base\n",
    "        openai.api_version = self.api_version\n",
    "\n",
    "    def embed_documents(self, texts):\n",
    "        # Use batch processing\n",
    "        response = openai.Embedding.create(\n",
    "            input=texts,\n",
    "            deployment_id=self.deployment_name  # Use deployment_id for Azure OpenAI\n",
    "        )\n",
    "        embeddings = [item['embedding'] for item in response['data']]\n",
    "        return embeddings\n"
   ]
  },
  {
   "cell_type": "code",
   "execution_count": null,
   "metadata": {
    "id": "HcdgJRAiMZb-"
   },
   "outputs": [],
   "source": [
    "azure_embeddings = AzureOpenAIEmbeddings(\n",
    "    deployment_name=\"Your deployment name\",  # Replace with your deployment name\n",
    "    api_key=os.getenv(\"your api key\"),\n",
    "    api_base=os.getenv(\"your api base url\"),\n",
    "    api_version=\"2023-05-15\"\n",
    ")"
   ]
  },
  {
   "cell_type": "code",
   "execution_count": 7,
   "metadata": {
    "id": "zKhl4VlVMmKJ"
   },
   "outputs": [],
   "source": [
    "# Load and split the PDF document\n",
    "loader = PyPDFLoader(\"Customer Information.pdf\")\n",
    "pages = loader.load_and_split()\n",
    "text_splitter = CharacterTextSplitter(chunk_size=1000, chunk_overlap=0)\n",
    "texts = text_splitter.split_documents(pages)"
   ]
  },
  {
   "cell_type": "code",
   "execution_count": 8,
   "metadata": {
    "colab": {
     "base_uri": "https://localhost:8080/"
    },
    "id": "3in-0MSHjDmC",
    "outputId": "c2cf154a-5771-44df-ff8c-aaf06437e9e2"
   },
   "outputs": [
    {
     "name": "stdout",
     "output_type": "stream",
     "text": [
      "[Document(metadata={'source': 'Customer Information.pdf', 'page': 0}, page_content=\"Customer Information  \\n \\nName: Rohan Sharma \\nAge: 32 years \\nGender: Male \\nLocation: Bengaluru, Karnataka, India \\nOccupation: Software Engineer \\nIncome Level: ₹1,200,000 per year \\nEducation: Bachelor's degree in Computer Science \\nLanguage Preferences: English, Hindi \\nPAN: YINO12E4\")]\n"
     ]
    }
   ],
   "source": [
    "print(texts)"
   ]
  },
  {
   "cell_type": "code",
   "execution_count": null,
   "metadata": {
    "colab": {
     "base_uri": "https://localhost:8080/",
     "height": 193
    },
    "id": "7RriFZ1-lBLX",
    "outputId": "8dfd6c0d-cc54-4f4c-9c73-27b34587efd6"
   },
   "outputs": [
    {
     "ename": "ImportError",
     "evalue": "cannot import name 'Chroma' from 'chromadb' (c:\\Users\\Sivap\\Documents\\SRM notes\\NLP\\Gen-AI Project\\.venv\\Lib\\site-packages\\chromadb\\__init__.py)",
     "output_type": "error",
     "traceback": [
      "\u001b[1;31m---------------------------------------------------------------------------\u001b[0m",
      "\u001b[1;31mImportError\u001b[0m                               Traceback (most recent call last)",
      "Cell \u001b[1;32mIn[10], line 1\u001b[0m\n\u001b[1;32m----> 1\u001b[0m \u001b[38;5;28;01mfrom\u001b[39;00m \u001b[38;5;21;01mchromadb\u001b[39;00m \u001b[38;5;28;01mimport\u001b[39;00m Chroma\n\u001b[0;32m      2\u001b[0m \u001b[38;5;28;01mfrom\u001b[39;00m \u001b[38;5;21;01mazure_embeddings\u001b[39;00m \u001b[38;5;28;01mimport\u001b[39;00m AzureEmbeddings  \u001b[38;5;66;03m# Import Azure embeddings if needed\u001b[39;00m\n\u001b[0;32m      4\u001b[0m \u001b[38;5;66;03m# Assuming you've already generated embeddings for your document chunks\u001b[39;00m\n",
      "\u001b[1;31mImportError\u001b[0m: cannot import name 'Chroma' from 'chromadb' (c:\\Users\\Sivap\\Documents\\SRM notes\\NLP\\Gen-AI Project\\.venv\\Lib\\site-packages\\chromadb\\__init__.py)"
     ]
    }
   ],
   "source": [
    "from chromadb import Chroma\n",
    "from azure_embeddings import AzureEmbeddings  # Ensure you have the correct implementation for Azure embeddings\n",
    "\n",
    "# Initialize Azure embeddings instance\n",
    "azure_embeddings = AzureEmbeddings(\n",
    "    deployment_name=\"your-deployment-name\",  # Replace with your deployment name\n",
    "    api_key=\"your-api-key\",  # Replace with your API key\n",
    "    api_base=\"your-api-base-url\",  # Replace with your Azure endpoint\n",
    "    api_version=\"2023-05-15\"  # Replace with the correct API version\n",
    ")\n",
    "\n",
    "# Assuming you've already generated embeddings for your document chunks\n",
    "document_embeddings = azure_embeddings.embed_documents([text.page_content for text in texts])\n",
    "\n",
    "# Initialize Chroma vector store\n",
    "vector_store = Chroma.from_embeddings(\n",
    "    embeddings=document_embeddings,  # List of embeddings\n",
    "    texts=[text.page_content for text in texts],  # Corresponding list of text content\n",
    "    embedding_function=azure_embeddings.embed_query  # Function to use for querying\n",
    ")\n"
   ]
  },
  {
   "cell_type": "code",
   "execution_count": null,
   "metadata": {
    "id": "RIUs2CmeMvxF"
   },
   "outputs": [],
   "source": [
    "# Generate embeddings for the document chunks\n",
    "document_embeddings = azure_embeddings.embed_documents([text.page_content for text in texts])"
   ]
  },
  {
   "cell_type": "code",
   "execution_count": null,
   "metadata": {
    "id": "Ux_LvFSlMxr0"
   },
   "outputs": [],
   "source": [
    "# Initialize Chroma vector store with the generated embeddings\n",
    "vector_store = Chroma.from_embeddings(\n",
    "    embeddings=document_embeddings,\n",
    "    texts=[text['text'] for text in texts],\n",
    "    embedding_function=azure_embeddings.embed_query  # Use for query embedding"
   ]
  },
  {
   "cell_type": "code",
   "execution_count": null,
   "metadata": {
    "id": "aYB1iraiM2HK"
   },
   "outputs": [],
   "source": [
    "# Create a QA chain with VectorDBQA\n",
    "qa_chain = VectorDBQA.from_chain_type(\n",
    "    vector_store=vector_store,\n",
    "    embedding_function=azure_embeddings.embed_query"
   ]
  },
  {
   "cell_type": "code",
   "execution_count": null,
   "metadata": {
    "id": "30sEKg46M4I4"
   },
   "outputs": [],
   "source": [
    "query = \"Enter your question here\"\n",
    "response = qa_chain.run(query)\n",
    "print(\"Response:\", response)"
   ]
  },
  {
   "cell_type": "code",
   "execution_count": null,
   "metadata": {
    "id": "_ygSe1buusBb"
   },
   "outputs": [],
   "source": []
  },
  {
   "cell_type": "code",
   "execution_count": null,
   "metadata": {
    "id": "17li75iKur-7"
   },
   "outputs": [],
   "source": []
  },
  {
   "cell_type": "code",
   "execution_count": null,
   "metadata": {
    "id": "jzUes0uPur4k"
   },
   "outputs": [],
   "source": []
  },
  {
   "cell_type": "code",
   "execution_count": null,
   "metadata": {
    "id": "zc1LGADsu9_U"
   },
   "outputs": [],
   "source": []
  }
 ],
 "metadata": {
  "colab": {
   "provenance": []
  },
  "kernelspec": {
   "display_name": ".venv",
   "language": "python",
   "name": "python3"
  },
  "language_info": {
   "codemirror_mode": {
    "name": "ipython",
    "version": 3
   },
   "file_extension": ".py",
   "mimetype": "text/x-python",
   "name": "python",
   "nbconvert_exporter": "python",
   "pygments_lexer": "ipython3",
   "version": "3.12.7"
  }
 },
 "nbformat": 4,
 "nbformat_minor": 0
}
